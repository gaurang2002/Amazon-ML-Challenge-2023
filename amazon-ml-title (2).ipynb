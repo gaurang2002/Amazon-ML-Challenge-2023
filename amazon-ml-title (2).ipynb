{
 "cells": [
  {
   "cell_type": "code",
   "execution_count": 1,
   "id": "712e7b95",
   "metadata": {
    "_cell_guid": "b1076dfc-b9ad-4769-8c92-a6c4dae69d19",
    "_uuid": "8f2839f25d086af736a60e9eeb907d3b93b6e0e5",
    "execution": {
     "iopub.execute_input": "2023-11-20T05:22:24.028249Z",
     "iopub.status.busy": "2023-11-20T05:22:24.027276Z",
     "iopub.status.idle": "2023-11-20T05:22:24.039289Z",
     "shell.execute_reply": "2023-11-20T05:22:24.038494Z"
    },
    "papermill": {
     "duration": 0.031335,
     "end_time": "2023-11-20T05:22:24.041608",
     "exception": false,
     "start_time": "2023-11-20T05:22:24.010273",
     "status": "completed"
    },
    "tags": []
   },
   "outputs": [],
   "source": [
    "# This Python 3 environment comes with many helpful analytics libraries installed\n",
    "# It is defined by the kaggle/python Docker image: https://github.com/kaggle/docker-python\n",
    "# For example, here's several helpful packages to load\n",
    "\n",
    "import numpy as np # linear algebra\n",
    "import pandas as pd # data processing, CSV file I/O (e.g. pd.read_csv)\n",
    "\n",
    "# Input data files are available in the read-only \"../input/\" directory\n",
    "# For example, running this (by clicking run or pressing Shift+Enter) will list all files under the input directory\n",
    "\n",
    "import os\n",
    "for dirname, _, filenames in os.walk('/kaggle/input'):\n",
    "    for filename in filenames:\n",
    "        print(os.path.join(dirname, filename))\n",
    "\n",
    "# You can write up to 20GB to the current directory (/kaggle/working/) that gets preserved as output when you create a version using \"Save & Run All\" \n",
    "# You can also write temporary files to /kaggle/temp/, but they won't be saved outside of the current session"
   ]
  },
  {
   "cell_type": "code",
   "execution_count": null,
   "id": "4684df9b",
   "metadata": {
    "papermill": {
     "duration": 0.014045,
     "end_time": "2023-11-20T05:22:24.070118",
     "exception": false,
     "start_time": "2023-11-20T05:22:24.056073",
     "status": "completed"
    },
    "tags": []
   },
   "outputs": [],
   "source": []
  },
  {
   "cell_type": "code",
   "execution_count": 2,
   "id": "9c79df94",
   "metadata": {
    "execution": {
     "iopub.execute_input": "2023-11-20T05:22:24.100157Z",
     "iopub.status.busy": "2023-11-20T05:22:24.099391Z",
     "iopub.status.idle": "2023-11-20T05:22:25.555537Z",
     "shell.execute_reply": "2023-11-20T05:22:25.554459Z"
    },
    "papermill": {
     "duration": 1.474662,
     "end_time": "2023-11-20T05:22:25.558863",
     "exception": false,
     "start_time": "2023-11-20T05:22:24.084201",
     "status": "completed"
    },
    "tags": []
   },
   "outputs": [
    {
     "name": "stdout",
     "output_type": "stream",
     "text": [
      "[nltk_data] Downloading package stopwords to /usr/share/nltk_data...\n",
      "[nltk_data]   Package stopwords is already up-to-date!\n"
     ]
    }
   ],
   "source": [
    "#Text Preprocessing Methods\n",
    "\n",
    "import unidecode\n",
    "import pandas as pd\n",
    "import re\n",
    "import time\n",
    "import nltk\n",
    "from nltk.corpus import stopwords\n",
    "nltk.download('stopwords')\n",
    "from nltk.tokenize import word_tokenize\n",
    "from nltk.stem import WordNetLemmatizer\n",
    "from bs4 import BeautifulSoup\n",
    "from nltk.corpus import stopwords\n",
    "from nltk import word_tokenize\n",
    "import string\n",
    "import timeit"
   ]
  },
  {
   "cell_type": "code",
   "execution_count": 3,
   "id": "e38fd5fb",
   "metadata": {
    "execution": {
     "iopub.execute_input": "2023-11-20T05:22:25.591492Z",
     "iopub.status.busy": "2023-11-20T05:22:25.590525Z",
     "iopub.status.idle": "2023-11-20T05:22:30.693194Z",
     "shell.execute_reply": "2023-11-20T05:22:30.692142Z"
    },
    "papermill": {
     "duration": 5.121086,
     "end_time": "2023-11-20T05:22:30.696093",
     "exception": false,
     "start_time": "2023-11-20T05:22:25.575007",
     "status": "completed"
    },
    "tags": []
   },
   "outputs": [],
   "source": [
    "import sklearn\n",
    "import pandas as pd\n",
    "import numpy as np\n",
    "import csv\n",
    "import os\n",
    "import random\n",
    "import torch\n",
    "import torch\n",
    "torch.backends.cudnn.benchmark = True\n",
    "torch.autograd.set_detect_anomaly(False)\n",
    "torch.autograd.profiler.profile(False)\n",
    "torch.autograd.profiler.emit_nvtx(False)\n",
    "import torch.nn as nn\n",
    "import torch.optim as optim\n",
    "from torch.utils.data import Dataset, DataLoader\n",
    "from sklearn.model_selection import train_test_split\n",
    "from sklearn.metrics import classification_report\n",
    "import transformers\n",
    "import sklearn.model_selection as model_selection\n",
    "from transformers import BertForSequenceClassification, BertTokenizerFast\n",
    "import time\n",
    "import copy\n",
    "from tqdm.notebook import tqdm"
   ]
  },
  {
   "cell_type": "code",
   "execution_count": 4,
   "id": "a9039b2a",
   "metadata": {
    "execution": {
     "iopub.execute_input": "2023-11-20T05:22:30.726826Z",
     "iopub.status.busy": "2023-11-20T05:22:30.726102Z",
     "iopub.status.idle": "2023-11-20T05:22:30.731497Z",
     "shell.execute_reply": "2023-11-20T05:22:30.730560Z"
    },
    "papermill": {
     "duration": 0.023152,
     "end_time": "2023-11-20T05:22:30.733769",
     "exception": false,
     "start_time": "2023-11-20T05:22:30.710617",
     "status": "completed"
    },
    "tags": []
   },
   "outputs": [],
   "source": [
    "def set_seed(seed=42):\n",
    "    os.environ['PYTHONHASHSEED']=str(seed)\n",
    "    random.seed(seed)\n",
    "    np.random.seed(seed)\n",
    "    torch.manual_seed(seed)"
   ]
  },
  {
   "cell_type": "code",
   "execution_count": 5,
   "id": "c495abe7",
   "metadata": {
    "execution": {
     "iopub.execute_input": "2023-11-20T05:22:30.763386Z",
     "iopub.status.busy": "2023-11-20T05:22:30.762814Z",
     "iopub.status.idle": "2023-11-20T05:22:30.769559Z",
     "shell.execute_reply": "2023-11-20T05:22:30.768594Z"
    },
    "papermill": {
     "duration": 0.024091,
     "end_time": "2023-11-20T05:22:30.771949",
     "exception": false,
     "start_time": "2023-11-20T05:22:30.747858",
     "status": "completed"
    },
    "tags": []
   },
   "outputs": [],
   "source": [
    "set_seed()"
   ]
  },
  {
   "cell_type": "code",
   "execution_count": 6,
   "id": "85588248",
   "metadata": {
    "execution": {
     "iopub.execute_input": "2023-11-20T05:22:30.801579Z",
     "iopub.status.busy": "2023-11-20T05:22:30.800961Z",
     "iopub.status.idle": "2023-11-20T05:22:31.135114Z",
     "shell.execute_reply": "2023-11-20T05:22:31.133558Z"
    },
    "papermill": {
     "duration": 0.351203,
     "end_time": "2023-11-20T05:22:31.137188",
     "exception": true,
     "start_time": "2023-11-20T05:22:30.785985",
     "status": "failed"
    },
    "tags": []
   },
   "outputs": [
    {
     "ename": "FileNotFoundError",
     "evalue": "[Errno 2] No such file or directory: '/kaggle/input/amazon-ml-challenge/train.csv'",
     "output_type": "error",
     "traceback": [
      "\u001b[0;31m---------------------------------------------------------------------------\u001b[0m",
      "\u001b[0;31mFileNotFoundError\u001b[0m                         Traceback (most recent call last)",
      "\u001b[0;32m/tmp/ipykernel_25/3910361220.py\u001b[0m in \u001b[0;36m<module>\u001b[0;34m\u001b[0m\n\u001b[0;32m----> 1\u001b[0;31m \u001b[0mtrain\u001b[0m \u001b[0;34m=\u001b[0m \u001b[0mpd\u001b[0m\u001b[0;34m.\u001b[0m\u001b[0mread_csv\u001b[0m\u001b[0;34m(\u001b[0m\u001b[0;34m'/kaggle/input/amazon-ml-challenge/train.csv'\u001b[0m\u001b[0;34m)\u001b[0m\u001b[0;34m\u001b[0m\u001b[0;34m\u001b[0m\u001b[0m\n\u001b[0m\u001b[1;32m      2\u001b[0m \u001b[0mtrain\u001b[0m\u001b[0;34m\u001b[0m\u001b[0;34m\u001b[0m\u001b[0m\n",
      "\u001b[0;32m/opt/conda/lib/python3.7/site-packages/pandas/util/_decorators.py\u001b[0m in \u001b[0;36mwrapper\u001b[0;34m(*args, **kwargs)\u001b[0m\n\u001b[1;32m    309\u001b[0m                     \u001b[0mstacklevel\u001b[0m\u001b[0;34m=\u001b[0m\u001b[0mstacklevel\u001b[0m\u001b[0;34m,\u001b[0m\u001b[0;34m\u001b[0m\u001b[0;34m\u001b[0m\u001b[0m\n\u001b[1;32m    310\u001b[0m                 )\n\u001b[0;32m--> 311\u001b[0;31m             \u001b[0;32mreturn\u001b[0m \u001b[0mfunc\u001b[0m\u001b[0;34m(\u001b[0m\u001b[0;34m*\u001b[0m\u001b[0margs\u001b[0m\u001b[0;34m,\u001b[0m \u001b[0;34m**\u001b[0m\u001b[0mkwargs\u001b[0m\u001b[0;34m)\u001b[0m\u001b[0;34m\u001b[0m\u001b[0;34m\u001b[0m\u001b[0m\n\u001b[0m\u001b[1;32m    312\u001b[0m \u001b[0;34m\u001b[0m\u001b[0m\n\u001b[1;32m    313\u001b[0m         \u001b[0;32mreturn\u001b[0m \u001b[0mwrapper\u001b[0m\u001b[0;34m\u001b[0m\u001b[0;34m\u001b[0m\u001b[0m\n",
      "\u001b[0;32m/opt/conda/lib/python3.7/site-packages/pandas/io/parsers/readers.py\u001b[0m in \u001b[0;36mread_csv\u001b[0;34m(filepath_or_buffer, sep, delimiter, header, names, index_col, usecols, squeeze, prefix, mangle_dupe_cols, dtype, engine, converters, true_values, false_values, skipinitialspace, skiprows, skipfooter, nrows, na_values, keep_default_na, na_filter, verbose, skip_blank_lines, parse_dates, infer_datetime_format, keep_date_col, date_parser, dayfirst, cache_dates, iterator, chunksize, compression, thousands, decimal, lineterminator, quotechar, quoting, doublequote, escapechar, comment, encoding, encoding_errors, dialect, error_bad_lines, warn_bad_lines, on_bad_lines, delim_whitespace, low_memory, memory_map, float_precision, storage_options)\u001b[0m\n\u001b[1;32m    584\u001b[0m     \u001b[0mkwds\u001b[0m\u001b[0;34m.\u001b[0m\u001b[0mupdate\u001b[0m\u001b[0;34m(\u001b[0m\u001b[0mkwds_defaults\u001b[0m\u001b[0;34m)\u001b[0m\u001b[0;34m\u001b[0m\u001b[0;34m\u001b[0m\u001b[0m\n\u001b[1;32m    585\u001b[0m \u001b[0;34m\u001b[0m\u001b[0m\n\u001b[0;32m--> 586\u001b[0;31m     \u001b[0;32mreturn\u001b[0m \u001b[0m_read\u001b[0m\u001b[0;34m(\u001b[0m\u001b[0mfilepath_or_buffer\u001b[0m\u001b[0;34m,\u001b[0m \u001b[0mkwds\u001b[0m\u001b[0;34m)\u001b[0m\u001b[0;34m\u001b[0m\u001b[0;34m\u001b[0m\u001b[0m\n\u001b[0m\u001b[1;32m    587\u001b[0m \u001b[0;34m\u001b[0m\u001b[0m\n\u001b[1;32m    588\u001b[0m \u001b[0;34m\u001b[0m\u001b[0m\n",
      "\u001b[0;32m/opt/conda/lib/python3.7/site-packages/pandas/io/parsers/readers.py\u001b[0m in \u001b[0;36m_read\u001b[0;34m(filepath_or_buffer, kwds)\u001b[0m\n\u001b[1;32m    480\u001b[0m \u001b[0;34m\u001b[0m\u001b[0m\n\u001b[1;32m    481\u001b[0m     \u001b[0;31m# Create the parser.\u001b[0m\u001b[0;34m\u001b[0m\u001b[0;34m\u001b[0m\u001b[0;34m\u001b[0m\u001b[0m\n\u001b[0;32m--> 482\u001b[0;31m     \u001b[0mparser\u001b[0m \u001b[0;34m=\u001b[0m \u001b[0mTextFileReader\u001b[0m\u001b[0;34m(\u001b[0m\u001b[0mfilepath_or_buffer\u001b[0m\u001b[0;34m,\u001b[0m \u001b[0;34m**\u001b[0m\u001b[0mkwds\u001b[0m\u001b[0;34m)\u001b[0m\u001b[0;34m\u001b[0m\u001b[0;34m\u001b[0m\u001b[0m\n\u001b[0m\u001b[1;32m    483\u001b[0m \u001b[0;34m\u001b[0m\u001b[0m\n\u001b[1;32m    484\u001b[0m     \u001b[0;32mif\u001b[0m \u001b[0mchunksize\u001b[0m \u001b[0;32mor\u001b[0m \u001b[0miterator\u001b[0m\u001b[0;34m:\u001b[0m\u001b[0;34m\u001b[0m\u001b[0;34m\u001b[0m\u001b[0m\n",
      "\u001b[0;32m/opt/conda/lib/python3.7/site-packages/pandas/io/parsers/readers.py\u001b[0m in \u001b[0;36m__init__\u001b[0;34m(self, f, engine, **kwds)\u001b[0m\n\u001b[1;32m    809\u001b[0m             \u001b[0mself\u001b[0m\u001b[0;34m.\u001b[0m\u001b[0moptions\u001b[0m\u001b[0;34m[\u001b[0m\u001b[0;34m\"has_index_names\"\u001b[0m\u001b[0;34m]\u001b[0m \u001b[0;34m=\u001b[0m \u001b[0mkwds\u001b[0m\u001b[0;34m[\u001b[0m\u001b[0;34m\"has_index_names\"\u001b[0m\u001b[0;34m]\u001b[0m\u001b[0;34m\u001b[0m\u001b[0;34m\u001b[0m\u001b[0m\n\u001b[1;32m    810\u001b[0m \u001b[0;34m\u001b[0m\u001b[0m\n\u001b[0;32m--> 811\u001b[0;31m         \u001b[0mself\u001b[0m\u001b[0;34m.\u001b[0m\u001b[0m_engine\u001b[0m \u001b[0;34m=\u001b[0m \u001b[0mself\u001b[0m\u001b[0;34m.\u001b[0m\u001b[0m_make_engine\u001b[0m\u001b[0;34m(\u001b[0m\u001b[0mself\u001b[0m\u001b[0;34m.\u001b[0m\u001b[0mengine\u001b[0m\u001b[0;34m)\u001b[0m\u001b[0;34m\u001b[0m\u001b[0;34m\u001b[0m\u001b[0m\n\u001b[0m\u001b[1;32m    812\u001b[0m \u001b[0;34m\u001b[0m\u001b[0m\n\u001b[1;32m    813\u001b[0m     \u001b[0;32mdef\u001b[0m \u001b[0mclose\u001b[0m\u001b[0;34m(\u001b[0m\u001b[0mself\u001b[0m\u001b[0;34m)\u001b[0m\u001b[0;34m:\u001b[0m\u001b[0;34m\u001b[0m\u001b[0;34m\u001b[0m\u001b[0m\n",
      "\u001b[0;32m/opt/conda/lib/python3.7/site-packages/pandas/io/parsers/readers.py\u001b[0m in \u001b[0;36m_make_engine\u001b[0;34m(self, engine)\u001b[0m\n\u001b[1;32m   1038\u001b[0m             )\n\u001b[1;32m   1039\u001b[0m         \u001b[0;31m# error: Too many arguments for \"ParserBase\"\u001b[0m\u001b[0;34m\u001b[0m\u001b[0;34m\u001b[0m\u001b[0;34m\u001b[0m\u001b[0m\n\u001b[0;32m-> 1040\u001b[0;31m         \u001b[0;32mreturn\u001b[0m \u001b[0mmapping\u001b[0m\u001b[0;34m[\u001b[0m\u001b[0mengine\u001b[0m\u001b[0;34m]\u001b[0m\u001b[0;34m(\u001b[0m\u001b[0mself\u001b[0m\u001b[0;34m.\u001b[0m\u001b[0mf\u001b[0m\u001b[0;34m,\u001b[0m \u001b[0;34m**\u001b[0m\u001b[0mself\u001b[0m\u001b[0;34m.\u001b[0m\u001b[0moptions\u001b[0m\u001b[0;34m)\u001b[0m  \u001b[0;31m# type: ignore[call-arg]\u001b[0m\u001b[0;34m\u001b[0m\u001b[0;34m\u001b[0m\u001b[0m\n\u001b[0m\u001b[1;32m   1041\u001b[0m \u001b[0;34m\u001b[0m\u001b[0m\n\u001b[1;32m   1042\u001b[0m     \u001b[0;32mdef\u001b[0m \u001b[0m_failover_to_python\u001b[0m\u001b[0;34m(\u001b[0m\u001b[0mself\u001b[0m\u001b[0;34m)\u001b[0m\u001b[0;34m:\u001b[0m\u001b[0;34m\u001b[0m\u001b[0;34m\u001b[0m\u001b[0m\n",
      "\u001b[0;32m/opt/conda/lib/python3.7/site-packages/pandas/io/parsers/c_parser_wrapper.py\u001b[0m in \u001b[0;36m__init__\u001b[0;34m(self, src, **kwds)\u001b[0m\n\u001b[1;32m     49\u001b[0m \u001b[0;34m\u001b[0m\u001b[0m\n\u001b[1;32m     50\u001b[0m         \u001b[0;31m# open handles\u001b[0m\u001b[0;34m\u001b[0m\u001b[0;34m\u001b[0m\u001b[0;34m\u001b[0m\u001b[0m\n\u001b[0;32m---> 51\u001b[0;31m         \u001b[0mself\u001b[0m\u001b[0;34m.\u001b[0m\u001b[0m_open_handles\u001b[0m\u001b[0;34m(\u001b[0m\u001b[0msrc\u001b[0m\u001b[0;34m,\u001b[0m \u001b[0mkwds\u001b[0m\u001b[0;34m)\u001b[0m\u001b[0;34m\u001b[0m\u001b[0;34m\u001b[0m\u001b[0m\n\u001b[0m\u001b[1;32m     52\u001b[0m         \u001b[0;32massert\u001b[0m \u001b[0mself\u001b[0m\u001b[0;34m.\u001b[0m\u001b[0mhandles\u001b[0m \u001b[0;32mis\u001b[0m \u001b[0;32mnot\u001b[0m \u001b[0;32mNone\u001b[0m\u001b[0;34m\u001b[0m\u001b[0;34m\u001b[0m\u001b[0m\n\u001b[1;32m     53\u001b[0m \u001b[0;34m\u001b[0m\u001b[0m\n",
      "\u001b[0;32m/opt/conda/lib/python3.7/site-packages/pandas/io/parsers/base_parser.py\u001b[0m in \u001b[0;36m_open_handles\u001b[0;34m(self, src, kwds)\u001b[0m\n\u001b[1;32m    227\u001b[0m             \u001b[0mmemory_map\u001b[0m\u001b[0;34m=\u001b[0m\u001b[0mkwds\u001b[0m\u001b[0;34m.\u001b[0m\u001b[0mget\u001b[0m\u001b[0;34m(\u001b[0m\u001b[0;34m\"memory_map\"\u001b[0m\u001b[0;34m,\u001b[0m \u001b[0;32mFalse\u001b[0m\u001b[0;34m)\u001b[0m\u001b[0;34m,\u001b[0m\u001b[0;34m\u001b[0m\u001b[0;34m\u001b[0m\u001b[0m\n\u001b[1;32m    228\u001b[0m             \u001b[0mstorage_options\u001b[0m\u001b[0;34m=\u001b[0m\u001b[0mkwds\u001b[0m\u001b[0;34m.\u001b[0m\u001b[0mget\u001b[0m\u001b[0;34m(\u001b[0m\u001b[0;34m\"storage_options\"\u001b[0m\u001b[0;34m,\u001b[0m \u001b[0;32mNone\u001b[0m\u001b[0;34m)\u001b[0m\u001b[0;34m,\u001b[0m\u001b[0;34m\u001b[0m\u001b[0;34m\u001b[0m\u001b[0m\n\u001b[0;32m--> 229\u001b[0;31m             \u001b[0merrors\u001b[0m\u001b[0;34m=\u001b[0m\u001b[0mkwds\u001b[0m\u001b[0;34m.\u001b[0m\u001b[0mget\u001b[0m\u001b[0;34m(\u001b[0m\u001b[0;34m\"encoding_errors\"\u001b[0m\u001b[0;34m,\u001b[0m \u001b[0;34m\"strict\"\u001b[0m\u001b[0;34m)\u001b[0m\u001b[0;34m,\u001b[0m\u001b[0;34m\u001b[0m\u001b[0;34m\u001b[0m\u001b[0m\n\u001b[0m\u001b[1;32m    230\u001b[0m         )\n\u001b[1;32m    231\u001b[0m \u001b[0;34m\u001b[0m\u001b[0m\n",
      "\u001b[0;32m/opt/conda/lib/python3.7/site-packages/pandas/io/common.py\u001b[0m in \u001b[0;36mget_handle\u001b[0;34m(path_or_buf, mode, encoding, compression, memory_map, is_text, errors, storage_options)\u001b[0m\n\u001b[1;32m    705\u001b[0m                 \u001b[0mencoding\u001b[0m\u001b[0;34m=\u001b[0m\u001b[0mioargs\u001b[0m\u001b[0;34m.\u001b[0m\u001b[0mencoding\u001b[0m\u001b[0;34m,\u001b[0m\u001b[0;34m\u001b[0m\u001b[0;34m\u001b[0m\u001b[0m\n\u001b[1;32m    706\u001b[0m                 \u001b[0merrors\u001b[0m\u001b[0;34m=\u001b[0m\u001b[0merrors\u001b[0m\u001b[0;34m,\u001b[0m\u001b[0;34m\u001b[0m\u001b[0;34m\u001b[0m\u001b[0m\n\u001b[0;32m--> 707\u001b[0;31m                 \u001b[0mnewline\u001b[0m\u001b[0;34m=\u001b[0m\u001b[0;34m\"\"\u001b[0m\u001b[0;34m,\u001b[0m\u001b[0;34m\u001b[0m\u001b[0;34m\u001b[0m\u001b[0m\n\u001b[0m\u001b[1;32m    708\u001b[0m             )\n\u001b[1;32m    709\u001b[0m         \u001b[0;32melse\u001b[0m\u001b[0;34m:\u001b[0m\u001b[0;34m\u001b[0m\u001b[0;34m\u001b[0m\u001b[0m\n",
      "\u001b[0;31mFileNotFoundError\u001b[0m: [Errno 2] No such file or directory: '/kaggle/input/amazon-ml-challenge/train.csv'"
     ]
    }
   ],
   "source": [
    "train = pd.read_csv('/kaggle/input/amazon-ml-challenge/train.csv')\n",
    "train"
   ]
  },
  {
   "cell_type": "code",
   "execution_count": null,
   "id": "2bc4098e",
   "metadata": {
    "papermill": {
     "duration": null,
     "end_time": null,
     "exception": null,
     "start_time": null,
     "status": "pending"
    },
    "tags": []
   },
   "outputs": [],
   "source": []
  },
  {
   "cell_type": "code",
   "execution_count": null,
   "id": "183470b1",
   "metadata": {
    "execution": {
     "iopub.execute_input": "2023-04-23T11:52:15.305373Z",
     "iopub.status.busy": "2023-04-23T11:52:15.304634Z",
     "iopub.status.idle": "2023-04-23T11:52:36.542758Z",
     "shell.execute_reply": "2023-04-23T11:52:36.541171Z",
     "shell.execute_reply.started": "2023-04-23T11:52:15.305312Z"
    },
    "papermill": {
     "duration": null,
     "end_time": null,
     "exception": null,
     "start_time": null,
     "status": "pending"
    },
    "tags": []
   },
   "outputs": [],
   "source": [
    "test = pd.read_csv('/kaggle/input/amazon-ml-challenge/train.csv')\n",
    "test"
   ]
  },
  {
   "cell_type": "code",
   "execution_count": null,
   "id": "0ff8491d",
   "metadata": {
    "execution": {
     "iopub.execute_input": "2023-04-23T11:57:59.577039Z",
     "iopub.status.busy": "2023-04-23T11:57:59.576352Z",
     "iopub.status.idle": "2023-04-23T11:57:59.598906Z",
     "shell.execute_reply": "2023-04-23T11:57:59.596549Z",
     "shell.execute_reply.started": "2023-04-23T11:57:59.576999Z"
    },
    "papermill": {
     "duration": null,
     "end_time": null,
     "exception": null,
     "start_time": null,
     "status": "pending"
    },
    "tags": []
   },
   "outputs": [],
   "source": [
    "train.info()"
   ]
  },
  {
   "cell_type": "code",
   "execution_count": null,
   "id": "7369594f",
   "metadata": {
    "execution": {
     "iopub.execute_input": "2023-04-23T11:58:02.316810Z",
     "iopub.status.busy": "2023-04-23T11:58:02.316435Z",
     "iopub.status.idle": "2023-04-23T11:58:02.322320Z",
     "shell.execute_reply": "2023-04-23T11:58:02.321191Z",
     "shell.execute_reply.started": "2023-04-23T11:58:02.316777Z"
    },
    "papermill": {
     "duration": null,
     "end_time": null,
     "exception": null,
     "start_time": null,
     "status": "pending"
    },
    "tags": []
   },
   "outputs": [],
   "source": [
    "def count_null_values(df, dataset_name):\n",
    "    \n",
    "    num_of_total_null_values = sum(df.isnull().sum().values)\n",
    "    print(f\"{dataset_name} dataset has {num_of_total_null_values} null values\")\n",
    "    return num_of_total_null_values"
   ]
  },
  {
   "cell_type": "code",
   "execution_count": null,
   "id": "0a4a53ac",
   "metadata": {
    "execution": {
     "iopub.execute_input": "2023-04-23T11:58:03.828284Z",
     "iopub.status.busy": "2023-04-23T11:58:03.827879Z",
     "iopub.status.idle": "2023-04-23T11:58:03.835238Z",
     "shell.execute_reply": "2023-04-23T11:58:03.834190Z",
     "shell.execute_reply.started": "2023-04-23T11:58:03.828248Z"
    },
    "papermill": {
     "duration": null,
     "end_time": null,
     "exception": null,
     "start_time": null,
     "status": "pending"
    },
    "tags": []
   },
   "outputs": [],
   "source": [
    "train.shape"
   ]
  },
  {
   "cell_type": "code",
   "execution_count": null,
   "id": "474e796a",
   "metadata": {
    "execution": {
     "iopub.execute_input": "2023-04-23T11:58:04.509836Z",
     "iopub.status.busy": "2023-04-23T11:58:04.509450Z",
     "iopub.status.idle": "2023-04-23T11:58:04.517311Z",
     "shell.execute_reply": "2023-04-23T11:58:04.516027Z",
     "shell.execute_reply.started": "2023-04-23T11:58:04.509785Z"
    },
    "papermill": {
     "duration": null,
     "end_time": null,
     "exception": null,
     "start_time": null,
     "status": "pending"
    },
    "tags": []
   },
   "outputs": [],
   "source": [
    "test.shape"
   ]
  },
  {
   "cell_type": "code",
   "execution_count": null,
   "id": "b8f8abcd",
   "metadata": {
    "execution": {
     "iopub.execute_input": "2023-04-23T11:58:05.067081Z",
     "iopub.status.busy": "2023-04-23T11:58:05.066753Z",
     "iopub.status.idle": "2023-04-23T11:58:05.567142Z",
     "shell.execute_reply": "2023-04-23T11:58:05.565754Z",
     "shell.execute_reply.started": "2023-04-23T11:58:05.067050Z"
    },
    "papermill": {
     "duration": null,
     "end_time": null,
     "exception": null,
     "start_time": null,
     "status": "pending"
    },
    "tags": []
   },
   "outputs": [],
   "source": [
    "train_null = count_null_values(train, \"train\")"
   ]
  },
  {
   "cell_type": "code",
   "execution_count": null,
   "id": "65c804b8",
   "metadata": {
    "papermill": {
     "duration": null,
     "end_time": null,
     "exception": null,
     "start_time": null,
     "status": "pending"
    },
    "tags": []
   },
   "outputs": [],
   "source": []
  },
  {
   "cell_type": "code",
   "execution_count": null,
   "id": "1bea6dbd",
   "metadata": {
    "execution": {
     "iopub.execute_input": "2023-04-23T11:58:06.125853Z",
     "iopub.status.busy": "2023-04-23T11:58:06.125107Z",
     "iopub.status.idle": "2023-04-23T11:58:06.131961Z",
     "shell.execute_reply": "2023-04-23T11:58:06.130197Z",
     "shell.execute_reply.started": "2023-04-23T11:58:06.125810Z"
    },
    "papermill": {
     "duration": null,
     "end_time": null,
     "exception": null,
     "start_time": null,
     "status": "pending"
    },
    "tags": []
   },
   "outputs": [],
   "source": [
    "import matplotlib.pyplot as plt\n",
    "\n",
    "def desc(s):\n",
    "    print(\"NULL : \" + str(s.isnull().sum()))\n",
    "    print(\"un : \" + str(s.nunique()))\n",
    "    print(s.describe())"
   ]
  },
  {
   "cell_type": "code",
   "execution_count": null,
   "id": "f893e1a2",
   "metadata": {
    "execution": {
     "iopub.execute_input": "2023-04-23T11:58:06.623819Z",
     "iopub.status.busy": "2023-04-23T11:58:06.623067Z",
     "iopub.status.idle": "2023-04-23T11:58:06.720093Z",
     "shell.execute_reply": "2023-04-23T11:58:06.718958Z",
     "shell.execute_reply.started": "2023-04-23T11:58:06.623780Z"
    },
    "papermill": {
     "duration": null,
     "end_time": null,
     "exception": null,
     "start_time": null,
     "status": "pending"
    },
    "tags": []
   },
   "outputs": [],
   "source": [
    "desc(train['PRODUCT_TYPE_ID'])\n"
   ]
  },
  {
   "cell_type": "code",
   "execution_count": null,
   "id": "773881d0",
   "metadata": {
    "execution": {
     "iopub.execute_input": "2023-04-23T11:58:07.314870Z",
     "iopub.status.busy": "2023-04-23T11:58:07.314482Z",
     "iopub.status.idle": "2023-04-23T11:58:10.907287Z",
     "shell.execute_reply": "2023-04-23T11:58:10.905916Z",
     "shell.execute_reply.started": "2023-04-23T11:58:07.314835Z"
    },
    "papermill": {
     "duration": null,
     "end_time": null,
     "exception": null,
     "start_time": null,
     "status": "pending"
    },
    "tags": []
   },
   "outputs": [],
   "source": [
    "desc(train['TITLE'])"
   ]
  },
  {
   "cell_type": "code",
   "execution_count": null,
   "id": "18dcd825",
   "metadata": {
    "execution": {
     "iopub.execute_input": "2023-04-23T11:58:10.909986Z",
     "iopub.status.busy": "2023-04-23T11:58:10.909588Z",
     "iopub.status.idle": "2023-04-23T11:58:13.120892Z",
     "shell.execute_reply": "2023-04-23T11:58:13.119784Z",
     "shell.execute_reply.started": "2023-04-23T11:58:10.909944Z"
    },
    "papermill": {
     "duration": null,
     "end_time": null,
     "exception": null,
     "start_time": null,
     "status": "pending"
    },
    "tags": []
   },
   "outputs": [],
   "source": [
    "desc(train['DESCRIPTION'])"
   ]
  },
  {
   "cell_type": "code",
   "execution_count": null,
   "id": "309e5079",
   "metadata": {
    "execution": {
     "iopub.execute_input": "2023-04-23T11:58:13.123772Z",
     "iopub.status.busy": "2023-04-23T11:58:13.122955Z",
     "iopub.status.idle": "2023-04-23T11:58:16.122428Z",
     "shell.execute_reply": "2023-04-23T11:58:16.121064Z",
     "shell.execute_reply.started": "2023-04-23T11:58:13.123731Z"
    },
    "papermill": {
     "duration": null,
     "end_time": null,
     "exception": null,
     "start_time": null,
     "status": "pending"
    },
    "tags": []
   },
   "outputs": [],
   "source": [
    "desc(train['BULLET_POINTS'])"
   ]
  },
  {
   "cell_type": "code",
   "execution_count": null,
   "id": "577f140b",
   "metadata": {
    "execution": {
     "iopub.execute_input": "2023-04-23T11:58:16.125587Z",
     "iopub.status.busy": "2023-04-23T11:58:16.125102Z",
     "iopub.status.idle": "2023-04-23T11:58:16.252574Z",
     "shell.execute_reply": "2023-04-23T11:58:16.251192Z",
     "shell.execute_reply.started": "2023-04-23T11:58:16.125548Z"
    },
    "papermill": {
     "duration": null,
     "end_time": null,
     "exception": null,
     "start_time": null,
     "status": "pending"
    },
    "tags": []
   },
   "outputs": [],
   "source": [
    "desc(train['PRODUCT_LENGTH'])\n",
    "\n"
   ]
  },
  {
   "cell_type": "code",
   "execution_count": null,
   "id": "d6483b2d",
   "metadata": {
    "execution": {
     "iopub.execute_input": "2023-04-23T11:58:16.254814Z",
     "iopub.status.busy": "2023-04-23T11:58:16.254385Z",
     "iopub.status.idle": "2023-04-23T11:58:16.313612Z",
     "shell.execute_reply": "2023-04-23T11:58:16.308477Z",
     "shell.execute_reply.started": "2023-04-23T11:58:16.254772Z"
    },
    "papermill": {
     "duration": null,
     "end_time": null,
     "exception": null,
     "start_time": null,
     "status": "pending"
    },
    "tags": []
   },
   "outputs": [],
   "source": [
    "Only_title = pd.DataFrame(train[['TITLE', 'PRODUCT_LENGTH']])"
   ]
  },
  {
   "cell_type": "code",
   "execution_count": null,
   "id": "5df106c9",
   "metadata": {
    "papermill": {
     "duration": null,
     "end_time": null,
     "exception": null,
     "start_time": null,
     "status": "pending"
    },
    "tags": []
   },
   "outputs": [],
   "source": [
    "\n",
    "\n"
   ]
  },
  {
   "cell_type": "code",
   "execution_count": null,
   "id": "ca58517f",
   "metadata": {
    "execution": {
     "iopub.execute_input": "2023-04-23T11:58:16.315795Z",
     "iopub.status.busy": "2023-04-23T11:58:16.315393Z",
     "iopub.status.idle": "2023-04-23T11:58:16.330217Z",
     "shell.execute_reply": "2023-04-23T11:58:16.329202Z",
     "shell.execute_reply.started": "2023-04-23T11:58:16.315747Z"
    },
    "papermill": {
     "duration": null,
     "end_time": null,
     "exception": null,
     "start_time": null,
     "status": "pending"
    },
    "tags": []
   },
   "outputs": [],
   "source": [
    "type(Only_title['TITLE'])"
   ]
  },
  {
   "cell_type": "code",
   "execution_count": null,
   "id": "d6cbc847",
   "metadata": {
    "execution": {
     "iopub.execute_input": "2023-04-23T11:58:16.332810Z",
     "iopub.status.busy": "2023-04-23T11:58:16.332517Z",
     "iopub.status.idle": "2023-04-23T11:58:16.348332Z",
     "shell.execute_reply": "2023-04-23T11:58:16.347360Z",
     "shell.execute_reply.started": "2023-04-23T11:58:16.332784Z"
    },
    "papermill": {
     "duration": null,
     "end_time": null,
     "exception": null,
     "start_time": null,
     "status": "pending"
    },
    "tags": []
   },
   "outputs": [],
   "source": [
    "def remove_newlines_tabs(text):\n",
    "    \"\"\"\n",
    "    This function will remove all the occurrences of newlines, tabs, and combinations like: \\\\n, \\\\.\n",
    "    \n",
    "    arguments:\n",
    "        input_text: \"text\" of type \"String\". \n",
    "                    \n",
    "    return:\n",
    "        value: \"text\" after removal of newlines, tabs, \\\\n, \\\\ characters.\n",
    "        \n",
    "    Example:\n",
    "    Input : This is her \\\\ first day at this place.\\n Please,\\t Be nice to her.\\\\n\n",
    "    Output : This is her first day at this place. Please, Be nice to her. \n",
    "    \n",
    "    \"\"\"\n",
    "    \n",
    "    # Replacing all the occurrences of \\n,\\\\n,\\t,\\\\ with a space.\n",
    "    Formatted_text = text.replace('\\\\n', ' ').replace('\\n', ' ').replace('\\t',' ').replace('\\\\', ' ').replace('. com', '.com')\n",
    "    return Formatted_text\n",
    "\n",
    "def remove_whitespace(text):\n",
    "    \"\"\" This function will remove \n",
    "        extra whitespaces from the text\n",
    "    arguments:\n",
    "        input_text: \"text\" of type \"String\". \n",
    "                    \n",
    "    return:\n",
    "        value: \"text\" after extra whitespaces removed .\n",
    "        \n",
    "    Example:\n",
    "    Input : How   are   you   doing   ?\n",
    "    Output : How are you doing ?     \n",
    "        \n",
    "    \"\"\"\n",
    "    pattern = re.compile(r'\\s+') \n",
    "    Without_whitespace = re.sub(pattern, ' ', text)\n",
    "    # There are some instances where there is no space after '?' & ')', \n",
    "    # So I am replacing these with one space so that It will not consider two words as one token.\n",
    "    text = Without_whitespace.replace('?', ' ? ').replace(')', ') ')\n",
    "    return text  \n",
    "\n",
    "def accented_characters_removal(text):\n",
    "    # this is a docstring\n",
    "    \"\"\"\n",
    "    The function will remove accented characters from the \n",
    "    text contained within the Dataset.\n",
    "       \n",
    "    arguments:\n",
    "        input_text: \"text\" of type \"String\". \n",
    "                    \n",
    "    return:\n",
    "        value: \"text\" with removed accented characters.\n",
    "        \n",
    "    Example:\n",
    "    Input : Málaga, àéêöhello\n",
    "    Output : Malaga, aeeohello    \n",
    "        \n",
    "    \"\"\"\n",
    "    # Remove accented characters from text using unidecode.\n",
    "    # Unidecode() - It takes unicode data & tries to represent it to ASCII characters. \n",
    "    text = unidecode.unidecode(text)\n",
    "    return text\n",
    "\n",
    "def reducing_incorrect_character_repeatation(text):\n",
    "    \"\"\"\n",
    "    This Function will reduce repeatition to two characters \n",
    "    for alphabets and to one character for punctuations.\n",
    "    \n",
    "    arguments:\n",
    "         input_text: \"text\" of type \"String\".\n",
    "         \n",
    "    return:\n",
    "        value: Finally formatted text with alphabets repeating to \n",
    "        two characters & punctuations limited to one repeatition \n",
    "        \n",
    "    Example:\n",
    "    Input : Realllllllllyyyyy,        Greeeeaaaatttt   !!!!?....;;;;:)\n",
    "    Output : Reallyy, Greeaatt !?.;:)\n",
    "    \n",
    "    \"\"\"\n",
    "    # Pattern matching for all case alphabets\n",
    "    Pattern_alpha = re.compile(r\"([A-Za-z])\\1{1,}\", re.DOTALL)\n",
    "    \n",
    "    # Limiting all the  repeatation to two characters.\n",
    "    Formatted_text = Pattern_alpha.sub(r\"\\1\\1\", text) \n",
    "    \n",
    "    # Pattern matching for all the punctuations that can occur\n",
    "    Pattern_Punct = re.compile(r'([.,/#!$%^&*?;:{}=_`~()+-])\\1{1,}')\n",
    "    \n",
    "    # Limiting punctuations in previously formatted string to only one.\n",
    "    Combined_Formatted = Pattern_Punct.sub(r'\\1', Formatted_text)\n",
    "    \n",
    "    # The below statement is replacing repeatation of spaces that occur more than two times with that of one occurrence.\n",
    "    Final_Formatted = re.sub(' {2,}',' ', Combined_Formatted)\n",
    "    return Final_Formatted\n",
    "\n",
    "def removing_special_characters(text):\n",
    "    \"\"\"Removing all the special characters except the one that is passed within \n",
    "       the regex to match, as they have imp meaning in the text provided.\n",
    "   \n",
    "    \n",
    "    arguments:\n",
    "         input_text: \"text\" of type \"String\".\n",
    "         \n",
    "    return:\n",
    "        value: Text with removed special characters that don't require.\n",
    "        \n",
    "    Example: \n",
    "    Input : Hello, K-a-j-a-l. Thi*s is $100.05 : the payment that you will recieve! (Is this okay?) \n",
    "    Output :  Hello, Kajal. This is $100.05 : the payment that you will recieve! Is this okay?\n",
    "    \n",
    "   \"\"\"\n",
    "    # The formatted text after removing not necessary punctuations.\n",
    "    Formatted_Text = re.sub(r\"[^a-zA-Z0-9:$-,%.?!]+\", ' ', text) \n",
    "    # In the above regex expression,I am providing necessary set of punctuations that are frequent in this particular dataset.\n",
    "    return Formatted_Text\n",
    "\n",
    "\n"
   ]
  },
  {
   "cell_type": "code",
   "execution_count": null,
   "id": "8a06ad58",
   "metadata": {
    "execution": {
     "iopub.execute_input": "2023-04-23T11:58:16.350287Z",
     "iopub.status.busy": "2023-04-23T11:58:16.349759Z",
     "iopub.status.idle": "2023-04-23T11:58:16.362352Z",
     "shell.execute_reply": "2023-04-23T11:58:16.361040Z",
     "shell.execute_reply.started": "2023-04-23T11:58:16.350251Z"
    },
    "papermill": {
     "duration": null,
     "end_time": null,
     "exception": null,
     "start_time": null,
     "status": "pending"
    },
    "tags": []
   },
   "outputs": [],
   "source": [
    "def text_preprocessing(text, accented_chars=True, extra_whitespace=True,\n",
    "                       newlines_tabs=True, repeatition=True, punctuations=True,  \n",
    "                       special_chars=True):\n",
    "    \"\"\"\n",
    "    This function will preprocess input text and return\n",
    "    the clean text.\n",
    "    \"\"\"\n",
    "        \n",
    "    if newlines_tabs == True: #remove newlines & tabs.\n",
    "        Data = remove_newlines_tabs(text)\n",
    "        \n",
    "    if extra_whitespace == True: #remove extra whitespaces\n",
    "        Data = remove_whitespace(Data)\n",
    "        \n",
    "    if accented_chars == True: #remove accented characters\n",
    "        Data = accented_characters_removal(Data)\n",
    "        \n",
    "    if repeatition == True: #Reduce repeatitions   \n",
    "        Data = reducing_incorrect_character_repeatation(Data)\n",
    "    \n",
    "    if punctuations == True: #remove punctuations\n",
    "        Data = removing_special_characters(Data)\n",
    "    \n",
    "    if punctuations == True: #remove punctuations\n",
    "        Data = removing_special_characters(Data)\n",
    "           \n",
    "    return Data"
   ]
  },
  {
   "cell_type": "code",
   "execution_count": null,
   "id": "b735507a",
   "metadata": {
    "execution": {
     "iopub.execute_input": "2023-04-23T11:58:18.336796Z",
     "iopub.status.busy": "2023-04-23T11:58:18.336017Z",
     "iopub.status.idle": "2023-04-23T11:59:53.647209Z",
     "shell.execute_reply": "2023-04-23T11:59:53.646083Z",
     "shell.execute_reply.started": "2023-04-23T11:58:18.336753Z"
    },
    "papermill": {
     "duration": null,
     "end_time": null,
     "exception": null,
     "start_time": null,
     "status": "pending"
    },
    "tags": []
   },
   "outputs": [],
   "source": [
    "List_Content = Only_title['TITLE'].to_list()\n",
    "Final_Article = []\n",
    "Complete_Content = []\n",
    "for article in List_Content:\n",
    "    Processed_Content = text_preprocessing(str(article)) #Cleaned text of Content attribute after pre-processing\n",
    "    Final_Article.append(Processed_Content)\n",
    "Complete_Content.extend(Final_Article)\n",
    "Only_title['Processed_title'] = Complete_Content"
   ]
  },
  {
   "cell_type": "code",
   "execution_count": null,
   "id": "8cb355bb",
   "metadata": {
    "execution": {
     "iopub.execute_input": "2023-04-23T11:59:53.649815Z",
     "iopub.status.busy": "2023-04-23T11:59:53.649276Z",
     "iopub.status.idle": "2023-04-23T11:59:54.464841Z",
     "shell.execute_reply": "2023-04-23T11:59:54.463565Z",
     "shell.execute_reply.started": "2023-04-23T11:59:53.649771Z"
    },
    "papermill": {
     "duration": null,
     "end_time": null,
     "exception": null,
     "start_time": null,
     "status": "pending"
    },
    "tags": []
   },
   "outputs": [],
   "source": [
    "Cleaned_only_title = Only_title.dropna()\n",
    "Cleaned_only_title['TITLE'] = Cleaned_only_title['Processed_title']\n",
    "Cleaned_only_title = Cleaned_only_title.drop(['Processed_title'],axis = 1)"
   ]
  },
  {
   "cell_type": "code",
   "execution_count": null,
   "id": "e4d4f415",
   "metadata": {
    "execution": {
     "iopub.execute_input": "2023-04-23T12:04:18.339739Z",
     "iopub.status.busy": "2023-04-23T12:04:18.339040Z",
     "iopub.status.idle": "2023-04-23T12:04:25.034555Z",
     "shell.execute_reply": "2023-04-23T12:04:25.033402Z",
     "shell.execute_reply.started": "2023-04-23T12:04:18.339695Z"
    },
    "papermill": {
     "duration": null,
     "end_time": null,
     "exception": null,
     "start_time": null,
     "status": "pending"
    },
    "tags": []
   },
   "outputs": [],
   "source": [
    "Cleaned_only_title.to_csv('/kaggle/working/title.csv')"
   ]
  },
  {
   "cell_type": "code",
   "execution_count": null,
   "id": "bdb3c626",
   "metadata": {
    "execution": {
     "iopub.execute_input": "2023-04-22T19:07:39.223863Z",
     "iopub.status.busy": "2023-04-22T19:07:39.222493Z",
     "iopub.status.idle": "2023-04-22T19:07:39.233187Z",
     "shell.execute_reply": "2023-04-22T19:07:39.232122Z",
     "shell.execute_reply.started": "2023-04-22T19:07:39.223822Z"
    },
    "papermill": {
     "duration": null,
     "end_time": null,
     "exception": null,
     "start_time": null,
     "status": "pending"
    },
    "tags": []
   },
   "outputs": [],
   "source": [
    "def Remove_outliers(df):\n",
    "    percentile25 = df['PRODUCT_LENGTH'].quantile(0.25)\n",
    "    percentile75 = df['PRODUCT_LENGTH'].quantile(0.75)\n",
    "    Q1 = np.percentile(df['PRODUCT_LENGTH'], 25,\n",
    "                       interpolation = 'midpoint')\n",
    "\n",
    "    Q3 = np.percentile(df['PRODUCT_LENGTH'], 75,\n",
    "                       interpolation = 'midpoint')\n",
    "    iqr = Q3 - Q1\n",
    "    upper_limit = percentile75 + 1.5 * iqr\n",
    "    lower_limit = percentile25 - 1.5 * iqr\n",
    "    \n",
    "    return df[df['PRODUCT_LENGTH'] < upper_limit]"
   ]
  },
  {
   "cell_type": "code",
   "execution_count": null,
   "id": "d479ecd6",
   "metadata": {
    "execution": {
     "iopub.execute_input": "2023-04-22T19:07:39.239917Z",
     "iopub.status.busy": "2023-04-22T19:07:39.237472Z",
     "iopub.status.idle": "2023-04-22T19:07:39.605272Z",
     "shell.execute_reply": "2023-04-22T19:07:39.604165Z",
     "shell.execute_reply.started": "2023-04-22T19:07:39.239862Z"
    },
    "papermill": {
     "duration": null,
     "end_time": null,
     "exception": null,
     "start_time": null,
     "status": "pending"
    },
    "tags": []
   },
   "outputs": [],
   "source": [
    "Cleaned_only_title = Remove_outliers(Cleaned_only_title)\n"
   ]
  },
  {
   "cell_type": "code",
   "execution_count": null,
   "id": "12a6b89d",
   "metadata": {
    "execution": {
     "iopub.execute_input": "2023-04-22T19:07:39.612438Z",
     "iopub.status.busy": "2023-04-22T19:07:39.610121Z",
     "iopub.status.idle": "2023-04-22T19:07:39.620748Z",
     "shell.execute_reply": "2023-04-22T19:07:39.619780Z",
     "shell.execute_reply.started": "2023-04-22T19:07:39.612399Z"
    },
    "papermill": {
     "duration": null,
     "end_time": null,
     "exception": null,
     "start_time": null,
     "status": "pending"
    },
    "tags": []
   },
   "outputs": [],
   "source": [
    "def create_folds(data, num_splits):\n",
    "    data[\"kfold\"] = -1\n",
    "    data = data.sample(frac=1).reset_index(drop=True)\n",
    "    y=Cleaned_only_title[\"PRODUCT_LENGTH\"]\n",
    "    kf = model_selection.KFold(n_splits=num_splits)\n",
    "    for f, (t_, v_) in enumerate(kf.split(X=data, y=y)):\n",
    "        data.loc[v_, 'kfold'] = f\n",
    "    return data"
   ]
  },
  {
   "cell_type": "code",
   "execution_count": null,
   "id": "0be5c2bd",
   "metadata": {
    "execution": {
     "iopub.execute_input": "2023-04-22T19:07:39.627098Z",
     "iopub.status.busy": "2023-04-22T19:07:39.626226Z",
     "iopub.status.idle": "2023-04-22T19:07:40.421766Z",
     "shell.execute_reply": "2023-04-22T19:07:40.420702Z",
     "shell.execute_reply.started": "2023-04-22T19:07:39.627043Z"
    },
    "papermill": {
     "duration": null,
     "end_time": null,
     "exception": null,
     "start_time": null,
     "status": "pending"
    },
    "tags": []
   },
   "outputs": [],
   "source": [
    "Cleaned_only_title_folds=create_folds(Cleaned_only_title, 5)"
   ]
  },
  {
   "cell_type": "code",
   "execution_count": null,
   "id": "a175ff74",
   "metadata": {
    "execution": {
     "iopub.execute_input": "2023-04-22T19:07:40.423836Z",
     "iopub.status.busy": "2023-04-22T19:07:40.423453Z",
     "iopub.status.idle": "2023-04-22T19:07:40.528955Z",
     "shell.execute_reply": "2023-04-22T19:07:40.527736Z",
     "shell.execute_reply.started": "2023-04-22T19:07:40.423795Z"
    },
    "papermill": {
     "duration": null,
     "end_time": null,
     "exception": null,
     "start_time": null,
     "status": "pending"
    },
    "tags": []
   },
   "outputs": [],
   "source": [
    "Cleaned_only_title_folds02=Cleaned_only_title_folds.loc[Cleaned_only_title_folds.kfold.isin([0,2])]\n",
    "Cleaned_only_title_folds02=Cleaned_only_title_folds02.reset_index(drop=True)\n",
    "Cleaned_only_title_folds02"
   ]
  },
  {
   "cell_type": "code",
   "execution_count": null,
   "id": "475f6c2a",
   "metadata": {
    "execution": {
     "iopub.execute_input": "2023-04-22T19:07:40.531313Z",
     "iopub.status.busy": "2023-04-22T19:07:40.530893Z",
     "iopub.status.idle": "2023-04-22T19:07:41.874083Z",
     "shell.execute_reply": "2023-04-22T19:07:41.873094Z",
     "shell.execute_reply.started": "2023-04-22T19:07:40.531272Z"
    },
    "papermill": {
     "duration": null,
     "end_time": null,
     "exception": null,
     "start_time": null,
     "status": "pending"
    },
    "tags": []
   },
   "outputs": [],
   "source": [
    "tokenizer = BertTokenizerFast.from_pretrained('bert-base-uncased')\n",
    "\n"
   ]
  },
  {
   "cell_type": "code",
   "execution_count": null,
   "id": "c296fa32",
   "metadata": {
    "execution": {
     "iopub.execute_input": "2023-04-22T19:07:41.876268Z",
     "iopub.status.busy": "2023-04-22T19:07:41.875830Z",
     "iopub.status.idle": "2023-04-22T19:07:43.214169Z",
     "shell.execute_reply": "2023-04-22T19:07:43.213027Z",
     "shell.execute_reply.started": "2023-04-22T19:07:41.876228Z"
    },
    "papermill": {
     "duration": null,
     "end_time": null,
     "exception": null,
     "start_time": null,
     "status": "pending"
    },
    "tags": []
   },
   "outputs": [],
   "source": [
    "seq_len = [len(i.split()) for i in Cleaned_only_title_folds02['TITLE']]\n",
    "pd.Series(seq_len).hist(bins = 40)"
   ]
  },
  {
   "cell_type": "code",
   "execution_count": null,
   "id": "cd9d302b",
   "metadata": {
    "execution": {
     "iopub.execute_input": "2023-04-22T19:07:43.216000Z",
     "iopub.status.busy": "2023-04-22T19:07:43.215550Z",
     "iopub.status.idle": "2023-04-22T19:07:43.409274Z",
     "shell.execute_reply": "2023-04-22T19:07:43.408102Z",
     "shell.execute_reply.started": "2023-04-22T19:07:43.215961Z"
    },
    "papermill": {
     "duration": null,
     "end_time": null,
     "exception": null,
     "start_time": null,
     "status": "pending"
    },
    "tags": []
   },
   "outputs": [],
   "source": [
    "pd.DataFrame(seq_len).describe()"
   ]
  },
  {
   "cell_type": "code",
   "execution_count": null,
   "id": "4b121467",
   "metadata": {
    "execution": {
     "iopub.execute_input": "2023-04-22T19:07:43.411784Z",
     "iopub.status.busy": "2023-04-22T19:07:43.410827Z",
     "iopub.status.idle": "2023-04-22T19:07:43.417512Z",
     "shell.execute_reply": "2023-04-22T19:07:43.416271Z",
     "shell.execute_reply.started": "2023-04-22T19:07:43.411740Z"
    },
    "papermill": {
     "duration": null,
     "end_time": null,
     "exception": null,
     "start_time": null,
     "status": "pending"
    },
    "tags": []
   },
   "outputs": [],
   "source": [
    "max_seq_len = 25"
   ]
  },
  {
   "cell_type": "code",
   "execution_count": null,
   "id": "37bfe3db",
   "metadata": {
    "execution": {
     "iopub.execute_input": "2023-04-22T19:07:43.419813Z",
     "iopub.status.busy": "2023-04-22T19:07:43.419394Z",
     "iopub.status.idle": "2023-04-22T19:08:51.968324Z",
     "shell.execute_reply": "2023-04-22T19:08:51.965983Z",
     "shell.execute_reply.started": "2023-04-22T19:07:43.419776Z"
    },
    "papermill": {
     "duration": null,
     "end_time": null,
     "exception": null,
     "start_time": null,
     "status": "pending"
    },
    "tags": []
   },
   "outputs": [],
   "source": [
    "encoded_corpus = tokenizer(text=Cleaned_only_title_folds02['TITLE'].tolist(),\n",
    "                            add_special_tokens=True,\n",
    "                            padding='max_length',\n",
    "                            truncation='longest_first',\n",
    "                            max_length=max_seq_len,\n",
    "                            return_attention_mask=True)"
   ]
  },
  {
   "cell_type": "code",
   "execution_count": null,
   "id": "56102504",
   "metadata": {
    "execution": {
     "iopub.execute_input": "2023-04-22T19:08:51.972699Z",
     "iopub.status.busy": "2023-04-22T19:08:51.971966Z",
     "iopub.status.idle": "2023-04-22T19:08:51.979322Z",
     "shell.execute_reply": "2023-04-22T19:08:51.978217Z",
     "shell.execute_reply.started": "2023-04-22T19:08:51.972656Z"
    },
    "papermill": {
     "duration": null,
     "end_time": null,
     "exception": null,
     "start_time": null,
     "status": "pending"
    },
    "tags": []
   },
   "outputs": [],
   "source": [
    "input_ids = encoded_corpus['input_ids']\n",
    "attention_mask = encoded_corpus['attention_mask']"
   ]
  },
  {
   "cell_type": "code",
   "execution_count": null,
   "id": "8f58810c",
   "metadata": {
    "papermill": {
     "duration": null,
     "end_time": null,
     "exception": null,
     "start_time": null,
     "status": "pending"
    },
    "tags": []
   },
   "outputs": [],
   "source": []
  },
  {
   "cell_type": "code",
   "execution_count": null,
   "id": "2e71c863",
   "metadata": {
    "execution": {
     "iopub.execute_input": "2023-04-22T19:08:59.992898Z",
     "iopub.status.busy": "2023-04-22T19:08:59.991924Z",
     "iopub.status.idle": "2023-04-22T19:09:00.579219Z",
     "shell.execute_reply": "2023-04-22T19:09:00.577949Z",
     "shell.execute_reply.started": "2023-04-22T19:08:59.992842Z"
    },
    "papermill": {
     "duration": null,
     "end_time": null,
     "exception": null,
     "start_time": null,
     "status": "pending"
    },
    "tags": []
   },
   "outputs": [],
   "source": [
    "test_size = 0.1\n",
    "seed = 42\n",
    "train_inputs, test_inputs, train_target, test_target = train_test_split(input_ids, np.array(Cleaned_only_title_folds02['PRODUCT_LENGTH']), test_size=test_size, \n",
    "                             random_state=seed)\n",
    "train_masks, test_masks, _, _ = train_test_split(attention_mask, \n",
    "                                        np.array(Cleaned_only_title_folds02['PRODUCT_LENGTH']), test_size=test_size, \n",
    "                                        random_state=seed)"
   ]
  },
  {
   "cell_type": "code",
   "execution_count": null,
   "id": "35344803",
   "metadata": {
    "papermill": {
     "duration": null,
     "end_time": null,
     "exception": null,
     "start_time": null,
     "status": "pending"
    },
    "tags": []
   },
   "outputs": [],
   "source": []
  },
  {
   "cell_type": "code",
   "execution_count": null,
   "id": "bcb75be7",
   "metadata": {
    "execution": {
     "iopub.execute_input": "2023-04-22T19:09:09.997052Z",
     "iopub.status.busy": "2023-04-22T19:09:09.996045Z",
     "iopub.status.idle": "2023-04-22T19:09:14.349653Z",
     "shell.execute_reply": "2023-04-22T19:09:14.348495Z",
     "shell.execute_reply.started": "2023-04-22T19:09:09.996998Z"
    },
    "papermill": {
     "duration": null,
     "end_time": null,
     "exception": null,
     "start_time": null,
     "status": "pending"
    },
    "tags": []
   },
   "outputs": [],
   "source": [
    "from torch.utils.data import TensorDataset, DataLoader\n",
    "batch_size = 32\n",
    "def create_dataloaders(inputs, masks, labels, batch_size):\n",
    "    input_tensor = torch.tensor(inputs)\n",
    "    mask_tensor = torch.tensor(masks)\n",
    "    labels_tensor = torch.tensor(labels)\n",
    "    dataset = TensorDataset(input_tensor, mask_tensor, \n",
    "                            labels_tensor)\n",
    "    dataloader = DataLoader(dataset, batch_size=batch_size, \n",
    "                            shuffle=True)\n",
    "    return dataloader\n",
    "train_dataloader = create_dataloaders(train_inputs, train_masks, \n",
    "                                      train_target, batch_size)\n",
    "test_dataloader = create_dataloaders(test_inputs, test_masks, \n",
    "                                     test_target, batch_size)"
   ]
  },
  {
   "cell_type": "code",
   "execution_count": null,
   "id": "6191f436",
   "metadata": {
    "execution": {
     "iopub.execute_input": "2023-04-22T19:09:24.503997Z",
     "iopub.status.busy": "2023-04-22T19:09:24.503542Z"
    },
    "papermill": {
     "duration": null,
     "end_time": null,
     "exception": null,
     "start_time": null,
     "status": "pending"
    },
    "tags": []
   },
   "outputs": [],
   "source": [
    " out = BertForSequenceClassification.from_pretrained('bert-base-uncased')(torch.tensor(input_ids), torch.tensor(attention_mask))"
   ]
  },
  {
   "cell_type": "code",
   "execution_count": null,
   "id": "0a02be54",
   "metadata": {
    "papermill": {
     "duration": null,
     "end_time": null,
     "exception": null,
     "start_time": null,
     "status": "pending"
    },
    "tags": []
   },
   "outputs": [],
   "source": [
    "class BERTRegressor(nn.Module):\n",
    "    \n",
    "    def __init__(self, drop_rate=0.2, freeze_camembert=False):\n",
    "        \n",
    "        super(BERTRegressor, self).__init__()\n",
    "        D_in, D_out = 768, 1\n",
    "        \n",
    "        self.bert = BertForSequenceClassification.from_pretrained('bert-base-uncased')\n",
    "        self.regressor = nn.Sequential(\n",
    "            nn.Dropout(drop_rate),\n",
    "            nn.Linear(D_in, D_out))\n",
    "    def forward(self, input_ids, attention_mask):\n",
    "        \n",
    "        outputs = self.bert(torch.tensor(input_ids), torch.tensor(attention_mask))\n",
    "        class_label_output = outputs[1]\n",
    "        outputs = self.regressor(class_label_output)\n",
    "        return outputs"
   ]
  },
  {
   "cell_type": "code",
   "execution_count": null,
   "id": "3a756374",
   "metadata": {
    "papermill": {
     "duration": null,
     "end_time": null,
     "exception": null,
     "start_time": null,
     "status": "pending"
    },
    "tags": []
   },
   "outputs": [],
   "source": []
  },
  {
   "cell_type": "code",
   "execution_count": null,
   "id": "603da390",
   "metadata": {
    "papermill": {
     "duration": null,
     "end_time": null,
     "exception": null,
     "start_time": null,
     "status": "pending"
    },
    "tags": []
   },
   "outputs": [],
   "source": [
    "model = BERTRegressor(drop_rate=0.2)"
   ]
  },
  {
   "cell_type": "code",
   "execution_count": null,
   "id": "13b519d5",
   "metadata": {
    "papermill": {
     "duration": null,
     "end_time": null,
     "exception": null,
     "start_time": null,
     "status": "pending"
    },
    "tags": []
   },
   "outputs": [],
   "source": [
    "if torch.cuda.is_available():       \n",
    "    device = torch.device(\"cuda\")\n",
    "    print(\"Using GPU.\")\n",
    "else:\n",
    "    print(\"No GPU available, using the CPU instead.\")\n",
    "    device = torch.device(\"cpu\")\n",
    "model.to(device)"
   ]
  },
  {
   "cell_type": "code",
   "execution_count": null,
   "id": "5a08ae89",
   "metadata": {
    "papermill": {
     "duration": null,
     "end_time": null,
     "exception": null,
     "start_time": null,
     "status": "pending"
    },
    "tags": []
   },
   "outputs": [],
   "source": [
    "from transformers import AdamW\n",
    "optimizer = AdamW(model.parameters(),\n",
    "                  lr=5e-5,\n",
    "                  eps=1e-8)"
   ]
  },
  {
   "cell_type": "code",
   "execution_count": null,
   "id": "9d7c4b25",
   "metadata": {
    "papermill": {
     "duration": null,
     "end_time": null,
     "exception": null,
     "start_time": null,
     "status": "pending"
    },
    "tags": []
   },
   "outputs": [],
   "source": [
    "from transformers import get_linear_schedule_with_warmup\n",
    "epochs = 5\n",
    "total_steps = len(train_dataloader) * epochs\n",
    "scheduler = get_linear_schedule_with_warmup(optimizer,       \n",
    "                 num_warmup_steps=0, num_training_steps=total_steps)"
   ]
  },
  {
   "cell_type": "code",
   "execution_count": null,
   "id": "86270b9b",
   "metadata": {
    "papermill": {
     "duration": null,
     "end_time": null,
     "exception": null,
     "start_time": null,
     "status": "pending"
    },
    "tags": []
   },
   "outputs": [],
   "source": [
    "loss_function = nn.MSELoss()"
   ]
  },
  {
   "cell_type": "code",
   "execution_count": null,
   "id": "ea52d927",
   "metadata": {
    "papermill": {
     "duration": null,
     "end_time": null,
     "exception": null,
     "start_time": null,
     "status": "pending"
    },
    "tags": []
   },
   "outputs": [],
   "source": [
    "from torch.nn.utils.clip_grad import clip_grad_norm\n",
    "def train(model, optimizer, scheduler, loss_function, epochs,       \n",
    "          train_dataloader, device, clip_value=2):\n",
    "    for epoch in range(epochs):\n",
    "        print(epoch)\n",
    "        print(\"-----\")\n",
    "        best_loss = 1e10\n",
    "        model.train()\n",
    "        for step, batch in enumerate(train_dataloader): \n",
    "            print(step)  \n",
    "            batch_inputs, batch_masks, batch_labels = \\\n",
    "                               tuple(b.to(device) for b in batch)\n",
    "            model.zero_grad()\n",
    "            outputs = model(batch_inputs, batch_masks)           \n",
    "            loss = loss_function(outputs.squeeze(), \n",
    "                             batch_labels.squeeze())\n",
    "            loss.backward()\n",
    "            clip_grad_norm(model.parameters(), clip_value)\n",
    "            optimizer.step()\n",
    "            scheduler.step()\n",
    "                \n",
    "    return model\n",
    "model = train(model, optimizer, scheduler, loss_function, epochs, \n",
    "              train_dataloader, device, clip_value=2)"
   ]
  },
  {
   "cell_type": "code",
   "execution_count": null,
   "id": "24b3e6e0",
   "metadata": {
    "papermill": {
     "duration": null,
     "end_time": null,
     "exception": null,
     "start_time": null,
     "status": "pending"
    },
    "tags": []
   },
   "outputs": [],
   "source": [
    "outputs = BertForSequenceClassification.from_pretrained('bert-base-uncased')(torch.tensor(input_ids), torch.tensor(attention_mask))"
   ]
  },
  {
   "cell_type": "code",
   "execution_count": null,
   "id": "2107bbc4",
   "metadata": {
    "execution": {
     "iopub.execute_input": "2023-04-21T17:19:51.20366Z",
     "iopub.status.busy": "2023-04-21T17:19:51.203211Z",
     "iopub.status.idle": "2023-04-21T17:19:51.209341Z",
     "shell.execute_reply": "2023-04-21T17:19:51.208227Z",
     "shell.execute_reply.started": "2023-04-21T17:19:51.203616Z"
    },
    "papermill": {
     "duration": null,
     "end_time": null,
     "exception": null,
     "start_time": null,
     "status": "pending"
    },
    "tags": []
   },
   "outputs": [],
   "source": []
  },
  {
   "cell_type": "code",
   "execution_count": null,
   "id": "729f705a",
   "metadata": {
    "papermill": {
     "duration": null,
     "end_time": null,
     "exception": null,
     "start_time": null,
     "status": "pending"
    },
    "tags": []
   },
   "outputs": [],
   "source": []
  }
 ],
 "metadata": {
  "kaggle": {
   "accelerator": "gpu",
   "dataSources": [
    {
     "datasetId": 3159824,
     "sourceId": 5470815,
     "sourceType": "datasetVersion"
    }
   ],
   "dockerImageVersionId": 30461,
   "isGpuEnabled": true,
   "isInternetEnabled": true,
   "language": "python",
   "sourceType": "notebook"
  },
  "kernelspec": {
   "display_name": "Python 3",
   "language": "python",
   "name": "python3"
  },
  "language_info": {
   "codemirror_mode": {
    "name": "ipython",
    "version": 3
   },
   "file_extension": ".py",
   "mimetype": "text/x-python",
   "name": "python",
   "nbconvert_exporter": "python",
   "pygments_lexer": "ipython3",
   "version": "3.7.12"
  },
  "papermill": {
   "default_parameters": {},
   "duration": 18.854319,
   "end_time": "2023-11-20T05:22:32.674914",
   "environment_variables": {},
   "exception": true,
   "input_path": "__notebook__.ipynb",
   "output_path": "__notebook__.ipynb",
   "parameters": {},
   "start_time": "2023-11-20T05:22:13.820595",
   "version": "2.4.0"
  }
 },
 "nbformat": 4,
 "nbformat_minor": 5
}
